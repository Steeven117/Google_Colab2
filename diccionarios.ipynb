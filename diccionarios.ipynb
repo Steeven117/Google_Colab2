{
  "nbformat": 4,
  "nbformat_minor": 0,
  "metadata": {
    "colab": {
      "provenance": [],
      "authorship_tag": "ABX9TyPgYp9bves85i6xFiJiI6qj",
      "include_colab_link": true
    },
    "kernelspec": {
      "name": "python3",
      "display_name": "Python 3"
    },
    "language_info": {
      "name": "python"
    }
  },
  "cells": [
    {
      "cell_type": "markdown",
      "metadata": {
        "id": "view-in-github",
        "colab_type": "text"
      },
      "source": [
        "<a href=\"https://colab.research.google.com/github/Steeven117/Google_Colab2/blob/main/diccionarios.ipynb\" target=\"_parent\"><img src=\"https://colab.research.google.com/assets/colab-badge.svg\" alt=\"Open In Colab\"/></a>"
      ]
    },
    {
      "cell_type": "markdown",
      "source": [
        "#DICCIONARIOS\n",
        " Son datos estructurados, es decir, hacen referencia a una colección de datos.\n",
        " Son una colección desordenada de pares de datos de la forma clave:valor, conocidos como elementos o itéms.\n",
        " Son mutables:una vez definido el diccionario se le pueden agregar nuevos elementos , modificar o eliminar algunos de los que ya tiene.\n",
        " Tambien se les conoce como mapa hash o arreglos asociativos.\n",
        " En python los diccionarios se de tipo dict.\n",
        " Sintaxis: nombre_diccionario = {clave1: valor1 , clave2: valor2,.....}\n",
        " Cada itém o elemento tiene la forma clave: valor.\n",
        " En cada itém hay una clave y uno o más valores. Si , por alguna razon, se desconoce el valor se puede completar con none.\n",
        " Los elementos del diccionario se indexan por la clave.\n",
        " Las claves solo pueden ser datos inmutables.\n",
        " Los valores pueden ser datos mutables e inmutales.\n",
        " Las claves no pueden repetirse dentro de un diccionario."
      ],
      "metadata": {
        "id": "RifZWg2QM-QQ"
      }
    },
    {
      "cell_type": "code",
      "source": [
        "#Ejemplo de diccionario\n",
        "\n",
        "#cadena\n",
        "\n",
        "num_meses={\"Enero\":1, \"febrero\":2, \"marzo\":3, \"abril\":4, \"mayo\":5, \"junio\":6}\n",
        "print(num_meses)\n",
        "\n",
        "#la clave es un entero\n",
        "num_meses={1:\"enero\", 2:\"febrero\", 3:\"marzo\", 4:\"abril\", 5:\"mayo\", 6:\"junio\"}\n",
        "print(num_meses)\n",
        "print(\"El tipo es \", type(num_meses))\n",
        "\n",
        "#creacion de diccionarios por medio del constructor *dict*\n",
        "#por medio de una lista de tuplas\n",
        "dic_1=dict([(\"La paz\", 13), (\"lima\", 27), (\"caracas\",30)])\n",
        "print(\"Con listas de tuplas: \", dic_1)\n",
        "\n",
        "#por medio de una lista por compension\n",
        "dic_cubos = dict([(n,n**3)for n in range(1, 5)])\n",
        "print(dic_cubos)"
      ],
      "metadata": {
        "id": "a7tkUedWNDho"
      },
      "execution_count": null,
      "outputs": []
    },
    {
      "cell_type": "code",
      "source": [
        "#operaciones\n",
        "\n",
        "#agregar elementos\n",
        "frutas = {\"manzanas\":34, \"peras\":45}\n",
        "print(frutas)\n",
        "frutas[\"cereza\"]=90\n",
        "print(frutas)\n",
        "frutas[\"manzanas\"]=37\n",
        "print(frutas)\n",
        "\n",
        "#Consultar o modificar elememtos\n",
        "print(\"El valor de la pera es: \", frutas[\"peras\"])\n",
        "\n"
      ],
      "metadata": {
        "id": "BEW0jpzDQLWI"
      },
      "execution_count": null,
      "outputs": []
    },
    {
      "cell_type": "code",
      "source": [
        "#usando un diccionario desarrollar una calculadora basica con Menu\n",
        "from math import log\n",
        "print(\"1 ---> suma(x+y)\")\n",
        "print(\"2 ---> resta(x-y)\")\n",
        "print(\"3 ---> multiplicacion(x*y)\")\n",
        "print(\"4 ---> division(x/y)\")\n",
        "print(\"5 ---> potencia(x^y)\")\n",
        "print(\"6 ---> Logaritmo(base =x, argumento=y)\")\n",
        "\n",
        "#input\n",
        "x = float(input(\"ingrese el valor de X: \"))\n",
        "y = float(input(\"ingrese el valor de Y: \"))\n",
        "opcion=input(\"operacion que desea realizar: \") \n",
        "\n",
        "#processing\n",
        "operaciones={\"1\":x+y, \"2\":x-y, \"3\":x*y, \"4\":x/y, \"5\":x**y, \"6\":log(x,y)}\n",
        "\n",
        "#Salida\n",
        "print(operaciones[opcion])"
      ],
      "metadata": {
        "id": "GMUpV22URuF2"
      },
      "execution_count": null,
      "outputs": []
    }
  ]
}