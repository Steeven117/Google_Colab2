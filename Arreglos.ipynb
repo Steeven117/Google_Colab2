{
  "nbformat": 4,
  "nbformat_minor": 0,
  "metadata": {
    "colab": {
      "provenance": [],
      "authorship_tag": "ABX9TyNtC2TR6XJ8cOYxzkWJXL8x",
      "include_colab_link": true
    },
    "kernelspec": {
      "name": "python3",
      "display_name": "Python 3"
    },
    "language_info": {
      "name": "python"
    }
  },
  "cells": [
    {
      "cell_type": "markdown",
      "metadata": {
        "id": "view-in-github",
        "colab_type": "text"
      },
      "source": [
        "<a href=\"https://colab.research.google.com/github/Steeven117/Google_Colab2/blob/main/Arreglos.ipynb\" target=\"_parent\"><img src=\"https://colab.research.google.com/assets/colab-badge.svg\" alt=\"Open In Colab\"/></a>"
      ]
    },
    {
      "cell_type": "markdown",
      "source": [
        "# Arrays, Arreglos, Vectores\n",
        "## Un Array en pyhton es una estructura de datos del mismo tipo,  que permiten almacenar una secuencia de valores de manera eficiente.\n"
      ],
      "metadata": {
        "id": "peYZlRH_VOX1"
      }
    },
    {
      "cell_type": "code",
      "source": [
        "#Vector o Array con numeros aleatorios\n",
        "\n",
        "import random \n",
        "x = [None]*10\n",
        "for i in range(10):\n",
        "  x[i]= random.random()\n",
        "  print(x[i])\n",
        "print(x)\n",
        "\n",
        "#con randint\n",
        "import random \n",
        "x = [None]*10\n",
        "for i in range(10):\n",
        "  x[i]= random.randint(1,6)\n",
        "  print(x[i])\n",
        "print(x)"
      ],
      "metadata": {
        "id": "JXVdr-SjVrmW"
      },
      "execution_count": null,
      "outputs": []
    },
    {
      "cell_type": "code",
      "source": [
        "#Suma de los elementos de un vector\n",
        "\n",
        "suma=0\n",
        "vector=[None]*5\n",
        "\n",
        "for i in range(5):\n",
        "  a=int(input(\"Dame un elemento: \"))\n",
        "  vector[i] = a\n",
        "  suma=suma+vector[i]\n",
        "\n",
        "print(\"Elvector es: \")\n",
        "print(vector)\n",
        "print(\"La suma de los elementos del vector es: \", suma)\n"
      ],
      "metadata": {
        "colab": {
          "base_uri": "https://localhost:8080/"
        },
        "id": "-SFsk3G7W0TG",
        "outputId": "a7ce55de-f62b-489f-8f6f-dea3f5246a61"
      },
      "execution_count": null,
      "outputs": [
        {
          "output_type": "stream",
          "name": "stdout",
          "text": [
            "Dame un elemento: 1\n",
            "Dame un elemento: 2\n",
            "Dame un elemento: 3\n",
            "Dame un elemento: 4\n",
            "Dame un elemento: 5\n",
            "Elvector es: \n",
            "[1, 2, 3, 4, 5]\n",
            "La suma de los elementos del vector es:  15\n"
          ]
        }
      ]
    },
    {
      "cell_type": "code",
      "source": [
        "#Ejercicio\n",
        "#Una empresa tiene 250 empleados, por cada uno de ellos tenemos un registro que trae grabado dos datos: el nombre del empleado y el salario correspondiente mensual:\n",
        "#Hacer un programa en python que averigue e inprima cuantos empleados gana mas del promedio salarial de la empresa\n",
        "empleados = [None]*3\n",
        "salarios = [None]*3\n",
        "\n",
        "prom_sal_empresa = 0\n",
        "num_emp_mayor_prom = 0\n",
        "\n",
        "#processing\n",
        "\n",
        "for i in range(3):\n",
        "  empleados[i] = input(\"Digite el nombre del empleado\")\n",
        "  salarios[i] = int(input(\"Digite el salario del empleado\"))\n",
        "  prom_sal_empresa = prom_sal_empresa + salarios[i]\n",
        "\n",
        "prom_sal_empresa = prom_sal_empresa / len(empleados)\n",
        "\n",
        "for i in range(3):\n",
        "  if salarios[i] > prom_sal_empresa:\n",
        "    num_emp_mayor_prom +=1\n",
        "\n",
        "# ouput\n",
        "print(\"El numero de empleados que gana mas que el promedio salarial es: \" , num_emp_mayor_prom)\n",
        "\n",
        "\n"
      ],
      "metadata": {
        "id": "Qhbk00TvY79N"
      },
      "execution_count": null,
      "outputs": []
    },
    {
      "cell_type": "markdown",
      "source": [
        "# EJERCICIOS ARREGLOS O ARRAYS O VECTORES\n",
        "1. hacer un programa en python que lea un vector A de n elementos que averigue e imprima cual es el mayor elemento y en que posicion se encuentra.\n",
        "2. La norma de un vector esta representada como la raiz de la suma de sus elementos elevados al cuadrad, Hcaer un programa en python que calcule la magnitud o norma de un vector.\n",
        "3. Sea U= (x,y). V=(a,b). el producto punto enytre U y V esta dada por el producto del primer elemento de U con el promer elemento de V + el rpoducto del segundo elemento de U con el segundo elemento de V, en caso de haber mas elementos se continua esta metodologia sucesivamente, Crear un programa en poython que calcule el producto punto de dos vectores. "
      ],
      "metadata": {
        "id": "4A3IZH9-VqVY"
      }
    },
    {
      "cell_type": "code",
      "source": [
        "# hacer un programa en python que lea un vector A de n elementos que averigue e imprima cual es el mayor elemento y en que posicion se encuentra.\n",
        "\n",
        "#Input\n",
        "\n",
        "def encontrar_mayor_elemento(vector):\n",
        "    # Inicializar el mayor elemento y su posición\n",
        "    mayor_elemento = vector[0]\n",
        "    posicion_mayor = 0\n",
        "\n",
        "    # Recorrer el vector y encontrar el mayor elemento y su posición\n",
        "    for i in range(1, len(vector)):\n",
        "        if vector[i] > mayor_elemento:\n",
        "            mayor_elemento = vector[i]\n",
        "            posicion_mayor = i\n",
        "\n",
        "    # Imprimir el mayor elemento y su posición\n",
        "    print(\"El mayor elemento es:\", mayor_elemento)\n",
        "    print(\"Se encuentra en la posición:\", posicion_mayor + 1)\n",
        "\n",
        "\n",
        "# Tamaño del vector\n",
        "n = int(input(\"Ingrese el tamaño del vector: \"))\n",
        "\n",
        "# Elementos del vector\n",
        "vector = []\n",
        "for i in range(n):\n",
        "    elemento = int(input(\"Ingrese el elemento {}: \".format(i+1)))\n",
        "    vector.append(elemento)\n",
        "\n",
        "# Llamar a la función para encontrar el mayor elemento\n",
        "encontrar_mayor_elemento(vector)\n",
        "\n"
      ],
      "metadata": {
        "id": "Y0xRTVsfXLZK"
      },
      "execution_count": null,
      "outputs": []
    },
    {
      "cell_type": "code",
      "source": [
        "#La norma de un vector esta representada como la raiz de la suma de sus elementos elevados al cuadrado, Hacer un programa en python que calcule la magnitud o norma de un vector.\n",
        "\n",
        "#Input\n",
        "import math\n",
        "\n",
        "def calcular_magnitud(vector):\n",
        "    suma_cuadrados = sum(elemento**2 for elemento in vector)\n",
        "    magnitud = math.sqrt(suma_cuadrados)\n",
        "    return magnitud\n",
        "\n",
        "\n",
        "# Tamaño del vector\n",
        "n = int(input(\"Ingrese el tamaño del vector: \"))\n",
        "\n",
        "# Elementos del vector\n",
        "vector = []\n",
        "for i in range(n):\n",
        "    elemento = float(input(\"Ingrese el elemento {}: \".format(i+1)))\n",
        "    vector.append(elemento)\n",
        "\n",
        "# Calcular la magnitud del vector\n",
        "magnitud = calcular_magnitud(vector)\n",
        "\n",
        "# Imprimir la magnitud del vector\n",
        "print(\"La magnitud del vector es:\", magnitud)\n",
        "\n"
      ],
      "metadata": {
        "id": "qMI1FvQobEO3"
      },
      "execution_count": null,
      "outputs": []
    },
    {
      "cell_type": "code",
      "source": [
        "#Sea U= (x,y). V=(a,b). el producto punto enytre U y V esta dada por el producto del primer elemento de U con el promer elemento de V + el producto del segundo elemento de U con el segundo elemento de V, en caso de haber mas elementos se continua esta metodologia sucesivamente, Crear un programa en poython que calcule el producto punto de dos vectores.\n",
        "\n",
        "#Input\n",
        "def calcular_producto_punto(u, v):\n",
        "    producto_punto = 0\n",
        "    for i in range(len(u)):\n",
        "        producto_punto += u[i] * v[i]\n",
        "    return producto_punto\n",
        "\n",
        "\n",
        "# Elementos del primer vector U\n",
        "u = []\n",
        "u_elements = input(\"Ingrese los elementos del vector U separados por coma: \").split(\",\")\n",
        "for element in u_elements:\n",
        "    u.append(float(element))\n",
        "\n",
        "# Elementos del segundo vector V\n",
        "v = []\n",
        "v_elements = input(\"Ingrese los elementos del vector V separados por coma: \").split(\",\")\n",
        "for element in v_elements:\n",
        "    v.append(float(element))\n",
        "\n",
        "# Verificar si los vectores tienen la misma longitud\n",
        "if len(u) != len(v):\n",
        "    print(\"Los vectores deben tener la misma longitud para calcular el producto punto.\")\n",
        "else:\n",
        "    # Calcular el producto punto de los vectores U y V\n",
        "    producto_punto = calcular_producto_punto(u, v)\n",
        "\n",
        "    # Imprimir el resultado del producto punto\n",
        "    print(\"El producto punto entre U y V es:\", producto_punto)\n"
      ],
      "metadata": {
        "id": "CJSkscuhePj2"
      },
      "execution_count": null,
      "outputs": []
    }
  ]
}