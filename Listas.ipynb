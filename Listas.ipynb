{
  "nbformat": 4,
  "nbformat_minor": 0,
  "metadata": {
    "colab": {
      "provenance": [],
      "authorship_tag": "ABX9TyM5TPo1ja8dIitOrt+EFuof",
      "include_colab_link": true
    },
    "kernelspec": {
      "name": "python3",
      "display_name": "Python 3"
    },
    "language_info": {
      "name": "python"
    }
  },
  "cells": [
    {
      "cell_type": "markdown",
      "metadata": {
        "id": "view-in-github",
        "colab_type": "text"
      },
      "source": [
        "<a href=\"https://colab.research.google.com/github/Steeven117/Google_Colab2/blob/main/Listas.ipynb\" target=\"_parent\"><img src=\"https://colab.research.google.com/assets/colab-badge.svg\" alt=\"Open In Colab\"/></a>"
      ]
    },
    {
      "cell_type": "code",
      "execution_count": null,
      "metadata": {
        "id": "1HDC8cgTXPJO"
      },
      "outputs": [],
      "source": [
        "#definir una lista con elementos de diferentes tipos\n",
        "Lista=[\"phyton\", \"UIS socorro\", 2023, \"Libro\", 5,8]\n",
        "print(Lista)\n",
        "print(Lista(1))\n",
        "print(Lista(0))\n"
      ]
    },
    {
      "cell_type": "code",
      "source": [
        "#Utilizar el operador \"+\" para realizar uniones de lista\n",
        "#Funciona para conocer el numero de elementos que la compone\n"
      ],
      "metadata": {
        "id": "gZZC0qIXZFZD"
      },
      "execution_count": null,
      "outputs": []
    },
    {
      "cell_type": "code",
      "source": [
        "#Creacion de listas usando el constructor List( sin parametros)\n",
        "Lista_3= list()\n",
        "print(Lista_3)\n",
        "Lista_4 = list(range(10))\n",
        "print(Lista_4)\n",
        "Lista_5= list(\"UIS SOCORO\")\n",
        "print(Lista_5)\n",
        "\n",
        "frase = \"Uis no es uno, somos todos los que estamos en la lucha\"\n",
        "Lista_6 = frase.split(\",\") #() vacio separa en espacios\n",
        "print(Lista_6)"
      ],
      "metadata": {
        "id": "oAbL0y7ebjQE"
      },
      "execution_count": null,
      "outputs": []
    },
    {
      "cell_type": "markdown",
      "source": [
        "Operaciones con funciones"
      ],
      "metadata": {
        "id": "NzCxiZwAdW8z"
      }
    },
    {
      "cell_type": "code",
      "source": [
        "#Funciones asociadas a las listas\n",
        "\n",
        "dias_laborables = [\"lunes\", \"martes\", \"miercoles\", \"jueves\", \"viernes\", \"sabado\"]\n",
        "colores_primarios = [\"rojo\", \"verde\", \"azul\"]\n",
        "pares = list(range(0, 30, 22))\n",
        "\n",
        "print(dias_laborables)\n",
        "dias_laborables.append(\"sabado\")\n",
        "print(dias_laborables)\n",
        "print(f\"El lunes aparece =\"(dias_laborables.count(\"lunes\")),\"veces\")\n",
        "\n",
        "#agregar un elemento al principio de la lista\n",
        "colores_primarios.insert(0, \"blanco\")\n",
        "print(colores_primarios)\n",
        "\n",
        "#Quitar un elemento de la lista\n",
        "dias_laborables.remove(\"sabado\")\n",
        "print(dias_laborables)"
      ],
      "metadata": {
        "id": "nb8uP4RedZST"
      },
      "execution_count": null,
      "outputs": []
    }
  ]
}